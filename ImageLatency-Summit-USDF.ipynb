{
 "cells": [
  {
   "cell_type": "code",
   "execution_count": null,
   "id": "022511f9-a89a-4d5b-b457-c6be52517f6e",
   "metadata": {},
   "outputs": [],
   "source": [
    "#Latency of image arrival at USDF after shutter close on LSSTCam"
   ]
  },
  {
   "cell_type": "code",
   "execution_count": 1,
   "id": "6886f1f9-e461-4cb4-89d3-f1b966cac1b8",
   "metadata": {
    "execution": {
     "iopub.execute_input": "2024-09-27T15:42:26.318641Z",
     "iopub.status.busy": "2024-09-27T15:42:26.318337Z",
     "iopub.status.idle": "2024-09-27T15:42:27.691211Z",
     "shell.execute_reply": "2024-09-27T15:42:27.690764Z",
     "shell.execute_reply.started": "2024-09-27T15:42:26.318628Z"
    },
    "tags": []
   },
   "outputs": [
    {
     "data": {
      "text/html": [
       "<pre style=\"margin: 0.1em;\n",
       "padding-left: 0.25em;\n",
       "border-left-style: solid;\n",
       "font-family: var(--jp-code-font-family);\n",
       "font-size: var(--jp-code-font-size);\n",
       "line-height: var(--jp-code-line-height);\n",
       "\"><span style=\"color: var(--jp-warn-color2)\">botocore.credentials</span> <span style=\"color: var(--jp-info-color0)\">INFO</span>: Found credentials in shared credentials file: /home/o/omullan/.lsst/aws-credentials.ini</pre>"
      ],
      "text/plain": [
       "<IPython.core.display.HTML object>"
      ]
     },
     "metadata": {},
     "output_type": "display_data"
    }
   ],
   "source": [
    "from lsst.daf.butler import Butler\n",
    "from lsst.daf.butler.registry import Registry\n",
    "import sqlalchemy\n",
    "from astropy import time\n",
    "\n",
    "\n",
    "repo = 'embargo_new'\n",
    "instrument = 'LSSTCam'\n",
    "# raw all collection contains all images \n",
    "collections = [f'{instrument}/raw/all']\n",
    "butler = Butler(repo, collections=collections, instrument=instrument)"
   ]
  },
  {
   "cell_type": "markdown",
   "id": "09bfe2c8-6dd1-44b2-8d67-b7d21091d567",
   "metadata": {},
   "source": [
    "# Data transferred and ingested in butler and access to data\n",
    "\n"
   ]
  },
  {
   "cell_type": "code",
   "execution_count": 3,
   "id": "8af5fe56-7e45-46cb-a33b-47ef5ba6889e",
   "metadata": {
    "execution": {
     "iopub.execute_input": "2024-09-27T15:44:30.769664Z",
     "iopub.status.busy": "2024-09-27T15:44:30.769443Z",
     "iopub.status.idle": "2024-09-27T15:44:39.480463Z",
     "shell.execute_reply": "2024-09-27T15:44:39.479977Z",
     "shell.execute_reply.started": "2024-09-27T15:44:30.769648Z"
    },
    "tags": []
   },
   "outputs": [
    {
     "name": "stdout",
     "output_type": "stream",
     "text": [
      "There are 329557 raw in collection: ['LSSTCam/raw/all'] in: embargo_new for exposure.day_obs = 20240926\n",
      "191 2024092600001\n",
      "104 2024092601583\n"
     ]
    }
   ],
   "source": [
    "dt = 'raw'\n",
    "day = \"20240926\"\n",
    "where = f\"exposure.day_obs = {day}\"\n",
    "datasetRefs = list(butler.registry.queryDatasets(datasetType=dt,where=where))\n",
    "\n",
    "print(f\"There are {len(datasetRefs)} {dt} in collection: {collections} in: {repo} for {where}\")\n",
    "\n",
    "count = 0\n",
    "for ref in datasetRefs[0], datasetRefs[-1]:\n",
    "    count = count + 1\n",
    "    print( ref.dataId['detector'], ref.dataId['exposure'])"
   ]
  },
  {
   "cell_type": "code",
   "execution_count": 6,
   "id": "32609f2b-555d-4865-b1f6-5cb82431ce39",
   "metadata": {
    "execution": {
     "iopub.execute_input": "2024-09-27T15:47:05.845851Z",
     "iopub.status.busy": "2024-09-27T15:47:05.845627Z",
     "iopub.status.idle": "2024-09-27T15:47:05.906732Z",
     "shell.execute_reply": "2024-09-27T15:47:05.906195Z",
     "shell.execute_reply.started": "2024-09-27T15:47:05.845834Z"
    },
    "tags": []
   },
   "outputs": [],
   "source": [
    "# Make a map of thoose for look up below .. \n",
    "dslookup = {}\n",
    "for ref in datasetRefs:\n",
    "    dslookup[ref.dataId['exposure']] = ref"
   ]
  },
  {
   "cell_type": "markdown",
   "id": "b72217c0-97dc-4f61-8984-6ca32928ce31",
   "metadata": {
    "tags": []
   },
   "source": [
    "### latency ..\n",
    "\"Measure the delays between completion of readout for each image and the ingestion time recorded in the Butler Registry.\"\n",
    "The end of readout is the exposure.timespan.end.\n",
    "Will have to lookup the ingest time using a sql query since is not exposed directly in butler."
   ]
  },
  {
   "cell_type": "code",
   "execution_count": 7,
   "id": "b027f428-e386-48a2-8fe1-6b8bcd24ed97",
   "metadata": {
    "execution": {
     "iopub.execute_input": "2024-09-27T15:47:11.262079Z",
     "iopub.status.busy": "2024-09-27T15:47:11.261881Z",
     "iopub.status.idle": "2024-09-27T15:47:13.602575Z",
     "shell.execute_reply": "2024-09-27T15:47:13.602041Z",
     "shell.execute_reply.started": "2024-09-27T15:47:11.262065Z"
    },
    "tags": []
   },
   "outputs": [
    {
     "name": "stdout",
     "output_type": "stream",
     "text": [
      "Got Metadata for 1610 exposures\n",
      "The min time was 0.29279703333340734 max time was 8.60558226666674 minutes\n",
      "Time between shutter close and ingest mean:5.187649398954476, std:2.7631875881283365, var:7.635205647186495 minutes\n"
     ]
    }
   ],
   "source": [
    "res = butler.registry.queryDimensionRecords('exposure', where=where, instrument=instrument)\n",
    "print (f\"Got Metadata for {res.count()} exposures\")\n",
    "times = []\n",
    "min = 100\n",
    "max = 0\n",
    "for count, dimensionRecord in enumerate(res):\n",
    "    datasetRef = dslookup[dimensionRecord.id]\n",
    "    uuid = datasetRef.id\n",
    "    # the ID in the dimension record is the exposure ID (dimensionRecord.id)\n",
    "    # the ID in the embargo.dataset is the UUID from the datasetRef \n",
    "    # hence the lookup map created in the cell above is used here to lookup the UUID\n",
    "    \n",
    "    q_string = f\"SELECT ingest_date FROM embargo.dataset WHERE id='{uuid}'\"\n",
    "    with butler.registry._registry._db.query(sqlalchemy.text(q_string)) as q:\n",
    "        intime = time.Time(q.all()[0][0])\n",
    "        \n",
    "    diff = (intime - dimensionRecord.timespan.end ).to('minute')\n",
    "    if diff.value < min:\n",
    "        min = diff.value\n",
    "    if diff.value > max:\n",
    "        max = diff.value \n",
    "    #print(r.id,r.timespan.end, intime, diff )\n",
    "    times.append(diff.value)\n",
    "    \n",
    "import numpy as np\n",
    "print (f\"The min time was {min} max time was {max} minutes\")\n",
    "print (f\"Time between shutter close and ingest mean:{np.mean(times)}, std:{np.std(times)}, var:{np.var(times)} minutes\")"
   ]
  },
  {
   "cell_type": "code",
   "execution_count": 8,
   "id": "fb3504b8-f273-495e-93cd-a5387866798b",
   "metadata": {
    "execution": {
     "iopub.execute_input": "2024-09-27T15:47:18.933540Z",
     "iopub.status.busy": "2024-09-27T15:47:18.933349Z",
     "iopub.status.idle": "2024-09-27T15:47:19.286576Z",
     "shell.execute_reply": "2024-09-27T15:47:19.286110Z",
     "shell.execute_reply.started": "2024-09-27T15:47:18.933528Z"
    },
    "tags": []
   },
   "outputs": [
    {
     "data": {
      "image/png": "[encoded data removed]",
      "text/plain": [
       "<Figure size 640x480 with 1 Axes>"
      ]
     },
     "metadata": {},
     "output_type": "display_data"
    }
   ],
   "source": [
    "import matplotlib.pyplot as plt\n",
    "seconds = list(map(lambda t:t*60.0,times))\n",
    "plt.hist(seconds,bins='auto')\n",
    "plt.title(f\"Shutter close to ingest times (s) on {day}\")\n",
    "plt.show()"
   ]
  }
 ],
 "metadata": {
  "kernelspec": {
   "display_name": "LSST",
   "language": "python",
   "name": "lsst"
  },
  "language_info": {
   "codemirror_mode": {
    "name": "ipython",
    "version": 3
   },
   "file_extension": ".py",
   "mimetype": "text/x-python",
   "name": "python",
   "nbconvert_exporter": "python",
   "pygments_lexer": "ipython3",
   "version": "3.11.9"
  }
 },
 "nbformat": 4,
 "nbformat_minor": 5
}
