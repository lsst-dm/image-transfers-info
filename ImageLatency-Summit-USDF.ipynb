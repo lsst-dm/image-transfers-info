{
 "cells": [
  {
   "cell_type": "code",
   "execution_count": null,
   "id": "022511f9-a89a-4d5b-b457-c6be52517f6e",
   "metadata": {},
   "outputs": [],
   "source": [
    "#Latency of image arrival at USDF after shutter close on LSSTCam"
   ]
  },
  {
   "cell_type": "code",
   "execution_count": null,
   "id": "55b0672e-15e5-40d0-8a20-637e0bf1cbb6",
   "metadata": {},
   "outputs": [],
   "source": [
    "# This cell is only for setting parameter defaults\n",
    "day = \"20240925\""
   ]
  },
  {
   "cell_type": "code",
   "execution_count": null,
   "id": "6886f1f9-e461-4cb4-89d3-f1b966cac1b8",
   "metadata": {
    "tags": []
   },
   "outputs": [],
   "source": [
    "from lsst.daf.butler import Butler\n",
    "from lsst.daf.butler.registry import Registry\n",
    "import sqlalchemy\n",
    "from astropy import time\n",
    "\n",
    "\n",
    "repo = 'embargo_new'\n",
    "instrument = 'LSSTCam'\n",
    "# raw all collection contains all images \n",
    "collections = [f'{instrument}/raw/all']\n",
    "butler = Butler(repo, collections=collections, instrument=instrument)\n",
    "where = f\"day_obs={day}\""
   ]
  },
  {
   "cell_type": "markdown",
   "id": "09bfe2c8-6dd1-44b2-8d67-b7d21091d567",
   "metadata": {},
   "source": [
    "# Data transferred and ingested in butler and access to data\n",
    "\n"
   ]
  },
  {
   "cell_type": "markdown",
   "id": "c932caa2-f546-48c2-bdd1-04aaff92910e",
   "metadata": {},
   "source": [
    "Get the ingest time for each image in the day"
   ]
  },
  {
   "cell_type": "code",
   "execution_count": null,
   "id": "5d6c13af-8ca4-4010-af51-70a53042a513",
   "metadata": {},
   "outputs": [],
   "source": [
    "\n",
    "with butler.query() as q:\n",
    "    q = q.join_dataset_search(dt,collections)\n",
    "    q = q.where(day_obs=int(day))\n",
    "    result = list(q.general([\"exposure\"], \"raw.ingest_date\", find_first=False))\n",
    "\n",
    "print (f\"Got ingest times for {len(result)} images\")\n"
   ]
  },
  {
   "cell_type": "code",
   "execution_count": null,
   "id": "32609f2b-555d-4865-b1f6-5cb82431ce39",
   "metadata": {
    "tags": []
   },
   "outputs": [],
   "source": [
    "# Make a map of detectors per exposure for look up below .. its faster than looking up the exposure time for each\n",
    "# Shutter close is the same for all detector images in the same exposure - so basically grouping. \n",
    "dslookup = {}\n",
    "for ref in result:\n",
    "   if ref['exposure'] in dslookup:\n",
    "       exp = dslookup[ref['exposure']] \n",
    "   else:  \n",
    "       exp = {}\n",
    "       dslookup[ref['exposure']] = exp\n",
    "   exp[ref['detector']] = ref['raw.ingest_date']\n",
    "\n",
    "print(f\"The images map to {len(dslookup)} exposures.\")"
   ]
  },
  {
   "cell_type": "markdown",
   "id": "b72217c0-97dc-4f61-8984-6ca32928ce31",
   "metadata": {
    "tags": []
   },
   "source": [
    "### latency ..\n",
    "\"Measure the delays between completion of readout for each image and the ingestion time recorded in the Butler Registry.\"\n",
    "Get the shuter close time for each exposre \n",
    "the ID in the dimension record is the exposure ID (dimensionRecord.id)\n",
    "thed timespan.end is the sutter close time \n"
   ]
  },
  {
   "cell_type": "code",
   "execution_count": null,
   "id": "b027f428-e386-48a2-8fe1-6b8bcd24ed97",
   "metadata": {
    "tags": []
   },
   "outputs": [],
   "source": [
    "shuterTimes = butler.registry.queryDimensionRecords('exposure', where=where, instrument=instrument)\n",
    "\n",
    "print (f\"Got Metadata (DimensionRecords) for {res.count()} exposures\")\n",
    "times = []\n",
    "min = 100\n",
    "max = 0\n",
    "for count, dimensionRecord in enumerate(shuterTimes):\n",
    "    detectorMap = dslookup[dimensionRecord.id]\n",
    "    \n",
    "    for dcount, detector in enumerate(detectorMap): \n",
    "        intime = detectorMap[detector]\n",
    "        # just do some for now too long for noteburst\n",
    "        diff = (intime - dimensionRecord.timespan.end ).to('minute')\n",
    "        if diff.value < min:\n",
    "            min = diff.value\n",
    "        if diff.value > max:\n",
    "            max = diff.value \n",
    "        times.append(diff.value)\n",
    "       \n",
    "    \n",
    "import numpy as np\n",
    "print (f\"The min time was {min} max time was {max} minutes over {len(times)} times.\")\n",
    "print (f\"Time between shutter close and ingest mean:{np.mean(times)}, std:{np.std(times)}, var:{np.var(times)} minutes\")"
   ]
  },
  {
   "cell_type": "code",
   "execution_count": null,
   "id": "fb3504b8-f273-495e-93cd-a5387866798b",
   "metadata": {
    "tags": []
   },
   "outputs": [],
   "source": [
    "import matplotlib.pyplot as plt\n",
    "seconds = list(map(lambda t:t*60.0,times))\n",
    "plt.hist(seconds,bins='auto')\n",
    "plt.title(f\"Shutter close to ingest times(s) for {len(times)} images on {day}\")\n",
    "plt.show()"
   ]
  }
 ],
 "metadata": {
  "kernelspec": {
   "display_name": "LSST",
   "language": "python",
   "name": "lsst"
  },
  "language_info": {
   "codemirror_mode": {
    "name": "ipython",
    "version": 3
   },
   "file_extension": ".py",
   "mimetype": "text/x-python",
   "name": "python",
   "nbconvert_exporter": "python",
   "pygments_lexer": "ipython3",
   "version": "3.11.9"
  }
 },
 "nbformat": 4,
 "nbformat_minor": 5
}
