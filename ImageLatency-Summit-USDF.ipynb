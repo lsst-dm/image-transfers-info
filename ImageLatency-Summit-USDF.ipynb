{
 "cells": [
  {
   "cell_type": "markdown",
   "id": "17d730bc-4fbf-4f6a-a03b-0baf6054ef79",
   "metadata": {},
   "source": [
    "# Latency of image arrival at USDF after shutter close on LSSTCam"
   ]
  },
  {
   "cell_type": "code",
   "execution_count": null,
   "id": "55b0672e-15e5-40d0-8a20-637e0bf1cbb6",
   "metadata": {},
   "outputs": [],
   "source": [
    "# This cell is only for setting parameter defaults\n",
    "day = \"20241009\"\n"
   ]
  },
  {
   "cell_type": "code",
   "execution_count": null,
   "id": "6886f1f9-e461-4cb4-89d3-f1b966cac1b8",
   "metadata": {
    "tags": []
   },
   "outputs": [],
   "source": [
    "from lsst.daf.butler import Butler\n",
    "from lsst.daf.butler.registry import Registry\n",
    "import sqlalchemy\n",
    "from astropy import time\n",
    "\n",
    "\n",
    "repo = 'embargo_new'\n",
    "instrument = 'LSSTCam'\n",
    "dt = 'raw'\n",
    "# raw all collection contains all images \n",
    "collections = [f'{instrument}/raw/all']\n",
    "butler = Butler(repo, collections=collections, instrument=instrument)\n",
    "where = f\"day_obs={day}\"\n",
    "\n",
    "endpoint_url = \"https://sdfembs3.sdf.slac.stanford.edu/\"\n",
    "boto_profile = \"embargo\"\n",
    "\n",
    "day_obs = int(day)"
   ]
  },
  {
   "cell_type": "markdown",
   "id": "09bfe2c8-6dd1-44b2-8d67-b7d21091d567",
   "metadata": {},
   "source": [
    "# Data transferred and ingested in butler and access to data\n",
    "\n"
   ]
  },
  {
   "cell_type": "code",
   "execution_count": null,
   "id": "5d6c13af-8ca4-4010-af51-70a53042a513",
   "metadata": {},
   "outputs": [],
   "source": [
    "with butler.query() as q:\n",
    "    q = q.join_dataset_search(dt,collections)\n",
    "    q = q.where(day_obs=day_obs)\n",
    "    rows = q.general([\"exposure\"], \"raw.ingest_date\", \"obs_id\", \"detector.full_name\", find_first=False)\n",
    "    # ordering by exposure.id ('.id' is optional) and ingest_date (or 'raw.ingest_date')\n",
    "    result = list(rows.order_by(\"exposure\", \"ingest_date\"))\n",
    "\n",
    "print (f\"Got ingest times for {len(result)} images on day_obs={day}\")\n"
   ]
  },
  {
   "cell_type": "markdown",
   "id": "b72217c0-97dc-4f61-8984-6ca32928ce31",
   "metadata": {
    "tags": []
   },
   "source": [
    "### latency ..\n",
    "\"Measure the delays between completion of readout for each image and the ingestion time recorded in the Butler Registry.\"\n",
    "Get the shuter close time for each exposre \n",
    "the ID in the dimension record is the exposure ID (dimensionRecord.id)\n",
    "thed timespan.end is the sutter close time \n"
   ]
  },
  {
   "cell_type": "code",
   "execution_count": null,
   "id": "b027f428-e386-48a2-8fe1-6b8bcd24ed97",
   "metadata": {
    "tags": []
   },
   "outputs": [],
   "source": [
    "import numpy as np\n",
    "from astropy.time import Time\n",
    "\n",
    "shutterTimes = butler.registry.queryDimensionRecords('exposure', where=where, instrument=instrument)\n",
    "nt = shutterTimes.count()\n",
    "\n",
    "print (f\"Got Metadata (DimensionRecords) for {nt} exposures\")\n"
   ]
  },
  {
   "cell_type": "markdown",
   "id": "bec108fe-4500-43fe-ac64-357cfb484de0",
   "metadata": {},
   "source": [
    "Arrival time to S3 at SLAC"
   ]
  },
  {
   "cell_type": "code",
   "execution_count": null,
   "id": "ef7f0df6-f5d7-437f-982a-909f2b85242c",
   "metadata": {},
   "outputs": [],
   "source": [
    "import boto3.session\n",
    "from datetime import datetime\n",
    "\n",
    "client = boto3.session.Session(profile_name=boto_profile).client(\"s3\", endpoint_url=endpoint_url)\n",
    "\n",
    "def get_s3_time(count, exposure_time):\n",
    "#    exposure_time = Time(exposure_time, scale = 'utc')\n",
    "    # coutn is the index inthe result set \n",
    "    r = result[count]\n",
    "    inst = r['instrument']\n",
    "    obs_id = r['exposure.obs_id']\n",
    "    detector = r['detector.full_name']\n",
    "    # get instrument, day_obs, obs_id, detector (full name), e.g. from `q.general()` Butler query\n",
    "    key = f\"{inst}/{day}/{obs_id}/{obs_id}_{detector}.fits\"\n",
    "    response = client.head_object(Bucket=\"rubin-summit\", Key=key)\n",
    "    arrival_time = Time(response[\"LastModified\"], format=\"datetime\")\n",
    "    return (arrival_time - exposure_time).to('second').value\n",
    "    "
   ]
  },
  {
   "cell_type": "code",
   "execution_count": null,
   "id": "3c61d255-f622-4797-9426-2a60ab25a55e",
   "metadata": {},
   "outputs": [],
   "source": []
  },
  {
   "cell_type": "markdown",
   "id": "9837ba1e-d4ca-411a-b9a2-975fda45c9b3",
   "metadata": {},
   "source": [
    "Use the exposure times to work out the time for each imagetransfer  and the max and min for each exposure"
   ]
  },
  {
   "cell_type": "code",
   "execution_count": null,
   "id": "0834d79c-0210-481a-8d5b-f9b7bcefabbd",
   "metadata": {},
   "outputs": [],
   "source": [
    "exptimes = {}\n",
    "for exp in shutterTimes:\n",
    "    exptimes[exp.id] = exp.timespan.end\n",
    "\n",
    "ingest_times = [res[\"raw.ingest_date\"] for res in result]\n",
    "exposure_times = [exptimes[res[\"exposure\"]] for res in result]\n",
    "seconds = None\n",
    "if len(ingest_times) > 0:\n",
    "    seconds = (Time(ingest_times) - Time(exposure_times)).to('second')  # per image\n",
    "    \n"
   ]
  },
  {
   "cell_type": "code",
   "execution_count": null,
   "id": "85ab64cf-3c5d-43ac-bc51-1a56e28a2c4f",
   "metadata": {},
   "outputs": [],
   "source": [
    "min = 100.0\n",
    "max = 0.0\n",
    "amin = 100\n",
    "amax = 0\n",
    "prev = None\n",
    "prevt = 0\n",
    "startexp = 0\n",
    "nt = len(exptimes)\n",
    "ecount = 0\n",
    "expt = np.array([t.to_value('mjd') for t in exptimes.values()])  # per exposure \n",
    "expmins  = np.empty(shape = [nt]) # the fastest tranfer\n",
    "expmaxs  = np.empty(shape = [nt]) # slowes transfer\n",
    "arrmins  = np.empty(shape = [nt]) # the fastest tranfer - but s3 arrival time\n",
    "arrmaxs  = np.empty(shape = [nt]) # slowes transfer - but s3 arrival time\n",
    "\n",
    "for count, ts in enumerate(seconds):\n",
    "    t = ts.value\n",
    "    if exposure_times[count] != prev : # boundary of exposure - individial times should be ordered\n",
    "        expmins[ecount] = t\n",
    "        arrmins[ecount] = get_s3_time(count, exposure_times[count])\n",
    "        if (arrmins[ecount]) < amin:\n",
    "            amin = arrmins[ecount]\n",
    "        if ecount > 0:\n",
    "            expmaxs[ecount] = prevt\n",
    "            arrmaxs[ecount] = get_s3_time(count - 1, exposure_times[count -1])\n",
    "            if (arrmaxs[ecount]) > amax:\n",
    "                amax = arrmaxs[ecount]\n",
    "        ecount = ecount + 1\n",
    "        if t < min:\n",
    "           min = t\n",
    "        if prevt > max:\n",
    "           max = prevt     \n",
    "        prev = exposure_times[count]\n",
    "    prevt = t\n"
   ]
  },
  {
   "cell_type": "code",
   "execution_count": null,
   "id": "c3eb5aa1-05ed-49bb-8f56-748cff94e3d8",
   "metadata": {},
   "outputs": [],
   "source": [
    "print (f\"Counted {ecount +1} exposures.\")\n",
    "print (f\"The min transfer time was {amin} max transfer time was {amax} seconds.\")\n",
    "print (f\"The min ingest time was {min} max ingest time was {max} seconds over {len(seconds)} times.\")\n",
    "print (f\"Time between shutter close and ingest median:{np.median(seconds)}, mean:{np.mean(seconds)}, std:{np.std(seconds)}, var:{np.var(seconds)}\")"
   ]
  },
  {
   "cell_type": "code",
   "execution_count": null,
   "id": "fb3504b8-f273-495e-93cd-a5387866798b",
   "metadata": {
    "tags": []
   },
   "outputs": [],
   "source": [
    "import matplotlib.pyplot as plt\n",
    "plt.hist(seconds,bins='auto')\n",
    "plt.yscale('log')\n",
    "plt.title(f\"Shutter close to ingest times(s) for {len(seconds)} images on {day}\")\n",
    "plt.axvline(x = 7, color = 'r', linestyle = '--', ymin=0, ymax=1) \n",
    "\n",
    "plt.show()"
   ]
  },
  {
   "cell_type": "markdown",
   "id": "b6392177-235b-440c-9e12-45bfcebc2e70",
   "metadata": {},
   "source": [
    "Red line is 7 seconds"
   ]
  },
  {
   "cell_type": "markdown",
   "id": "4a853d3f-c87a-4802-bf56-c2c28877ef4e",
   "metadata": {},
   "source": [
    "## The max and min transfer time for each exposure\n",
    "For each exposure the fastes (blue) and slowest (orange) file transfer is ploted. "
   ]
  },
  {
   "cell_type": "code",
   "execution_count": null,
   "id": "768c4fb4-6637-4218-adcd-98a66a0ad9e2",
   "metadata": {},
   "outputs": [],
   "source": [
    "\n",
    "\n",
    "plt.scatter(expt, arrmins, marker=\"*\", s=0.6)\n",
    "plt.scatter(expt, arrmaxs, marker=\"*\", s=0.6)\n",
    "\n",
    "plt.xlabel(f\"MJD {day}\")\n",
    "plt.ylabel(\"Seconds\")\n",
    "\n",
    "plt.title(f\"Max and min transfer time for {len(expt)} exposures over  {day}.\")\n",
    "plt.axhline(y = 7, color = 'r', linestyle = '--') \n",
    "plt.show()"
   ]
  },
  {
   "cell_type": "code",
   "execution_count": null,
   "id": "0f675d7c-1c6a-40f2-9a5b-a9c48fa6141f",
   "metadata": {},
   "outputs": [],
   "source": [
    "\n",
    "plt.scatter(expt, expmins, marker=\".\", s=0.5)\n",
    "plt.scatter(expt, expmaxs, marker=\".\", s=0.5)\n",
    "\n",
    "plt.xlabel(f\"MJD {day}\")\n",
    "plt.ylabel(\"Seconds\")\n",
    "\n",
    "plt.title(f\"Max and min time to ingest at SLAC  time for {len(expt)} exposures over  {day}.\")\n",
    "plt.axhline(y = 7, color = 'r', linestyle = '--') \n",
    "plt.show()"
   ]
  },
  {
   "cell_type": "markdown",
   "id": "e46d92c0-2b1c-468d-9170-9a992b869611",
   "metadata": {},
   "source": [
    "## Time between exposures "
   ]
  },
  {
   "cell_type": "code",
   "execution_count": null,
   "id": "ed6c007a-0488-4166-9263-700700ebadc5",
   "metadata": {},
   "outputs": [],
   "source": [
    "expt.sort()\n",
    "expts = expt[1:]\n",
    "\n",
    "betweentimes = (Time(expts, format='mjd') - Time(expt[0:-1], format='mjd')).to('second')  # per image\n",
    "\n",
    "#print(f\"Got {len(betweentimes)} betweentimes and {len(expts)} exposures.\")\n",
    "#print (f\"Time between exposures mean:{np.mean(betweentimes)}, std:{np.std(betweentimes)}, var:{np.var(betweentimes)} seconds\")\n"
   ]
  },
  {
   "cell_type": "code",
   "execution_count": null,
   "id": "300d55d8-22c9-4798-b9c6-3247881cd7d0",
   "metadata": {},
   "outputs": [],
   "source": [
    "plt.scatter(expts, betweentimes, marker=\".\", s=0.7)\n",
    "plt.axhline(y = 34, color = 'r', linestyle = '--') \n",
    "plt.yscale('log')\n",
    "plt.xlabel(f\"MJD {day}\")\n",
    "plt.ylabel(\"Seconds (log scale)\")\n",
    "plt.title(f\"Time between exposures  for {len(betweentimes)} exposures  on {day}\")\n",
    "plt.show()"
   ]
  },
  {
   "cell_type": "markdown",
   "id": "d8330ed2-781f-4846-954f-0b82a1e04090",
   "metadata": {},
   "source": [
    "Red line is 34 sec nominal time between exposures"
   ]
  }
 ],
 "metadata": {
  "kernelspec": {
   "display_name": "LSST",
   "language": "python",
   "name": "lsst"
  },
  "language_info": {
   "codemirror_mode": {
    "name": "ipython",
    "version": 3
   },
   "file_extension": ".py",
   "mimetype": "text/x-python",
   "name": "python",
   "nbconvert_exporter": "python",
   "pygments_lexer": "ipython3",
   "version": "3.11.9"
  }
 },
 "nbformat": 4,
 "nbformat_minor": 5
}
