{
 "cells": [
  {
   "cell_type": "markdown",
   "id": "17d730bc-4fbf-4f6a-a03b-0baf6054ef79",
   "metadata": {},
   "source": [
    "# Latency of image arrival at USDF after shutter close on LSSTCam"
   ]
  },
  {
   "cell_type": "code",
   "execution_count": null,
   "id": "55b0672e-15e5-40d0-8a20-637e0bf1cbb6",
   "metadata": {},
   "outputs": [],
   "source": [
    "# This cell is only for setting parameter defaults\n",
    "day = \"20240925\""
   ]
  },
  {
   "cell_type": "code",
   "execution_count": null,
   "id": "6886f1f9-e461-4cb4-89d3-f1b966cac1b8",
   "metadata": {
    "tags": []
   },
   "outputs": [],
   "source": [
    "from lsst.daf.butler import Butler\n",
    "from lsst.daf.butler.registry import Registry\n",
    "import sqlalchemy\n",
    "from astropy import time\n",
    "\n",
    "\n",
    "repo = 'embargo_new'\n",
    "instrument = 'LSSTCam'\n",
    "dt = 'raw'\n",
    "# raw all collection contains all images \n",
    "collections = [f'{instrument}/raw/all']\n",
    "butler = Butler(repo, collections=collections, instrument=instrument)\n",
    "where = f\"day_obs={day}\""
   ]
  },
  {
   "cell_type": "markdown",
   "id": "09bfe2c8-6dd1-44b2-8d67-b7d21091d567",
   "metadata": {},
   "source": [
    "# Data transferred and ingested in butler and access to data\n",
    "\n"
   ]
  },
  {
   "cell_type": "code",
   "execution_count": 12,
   "id": "5d6c13af-8ca4-4010-af51-70a53042a513",
   "metadata": {
    "execution": {
     "iopub.execute_input": "2024-10-02T14:32:09.475436Z",
     "iopub.status.busy": "2024-10-02T14:32:09.475244Z",
     "iopub.status.idle": "2024-10-02T14:32:48.306222Z",
     "shell.execute_reply": "2024-10-02T14:32:48.305738Z",
     "shell.execute_reply.started": "2024-10-02T14:32:09.475423Z"
    }
   },
   "outputs": [
    {
     "name": "stdout",
     "output_type": "stream",
     "text": [
      "Got ingest times for 280023 images on day_obs=20240925\n"
     ]
    }
   ],
   "source": [
    "with butler.query() as q:\n",
    "    q = q.join_dataset_search(dt,collections)\n",
    "    q = q.where(day_obs=int(day))\n",
    "    rows = q.general([\"exposure\"], \"raw.ingest_date\", find_first=False)\n",
    "    # ordering by exposure.id ('.id' is optional) and ingest_date (or 'raw.ingest_date')\n",
    "    result = list(rows.order_by(\"exposure\", \"ingest_date\"))\n",
    "\n",
    "print (f\"Got ingest times for {len(result)} images on day_obs={day}\")\n"
   ]
  },
  {
   "cell_type": "markdown",
   "id": "b72217c0-97dc-4f61-8984-6ca32928ce31",
   "metadata": {
    "tags": []
   },
   "source": [
    "### latency ..\n",
    "\"Measure the delays between completion of readout for each image and the ingestion time recorded in the Butler Registry.\"\n",
    "Get the shuter close time for each exposre \n",
    "the ID in the dimension record is the exposure ID (dimensionRecord.id)\n",
    "thed timespan.end is the sutter close time \n"
   ]
  },
  {
   "cell_type": "code",
   "execution_count": 22,
   "id": "b027f428-e386-48a2-8fe1-6b8bcd24ed97",
   "metadata": {
    "execution": {
     "iopub.execute_input": "2024-10-02T14:53:23.920919Z",
     "iopub.status.busy": "2024-10-02T14:53:23.920497Z",
     "iopub.status.idle": "2024-10-02T14:53:23.939545Z",
     "shell.execute_reply": "2024-10-02T14:53:23.939156Z",
     "shell.execute_reply.started": "2024-10-02T14:53:23.920905Z"
    },
    "tags": []
   },
   "outputs": [
    {
     "name": "stdout",
     "output_type": "stream",
     "text": [
      "Got Metadata (DimensionRecords) for 1366 exposures\n"
     ]
    }
   ],
   "source": [
    "import numpy as np\n",
    "from astropy.time import Time\n",
    "\n",
    "shutterTimes = butler.registry.queryDimensionRecords('exposure', where=where, instrument=instrument)\n",
    "nt = shutterTimes.count()\n",
    "\n",
    "print (f\"Got Metadata (DimensionRecords) for {nt} exposures\")\n"
   ]
  },
  {
   "cell_type": "markdown",
   "id": "9837ba1e-d4ca-411a-b9a2-975fda45c9b3",
   "metadata": {},
   "source": [
    "Use the exposure times to work out the time for each imagetransfer  and the max and min for each exposure"
   ]
  },
  {
   "cell_type": "code",
   "execution_count": 23,
   "id": "0834d79c-0210-481a-8d5b-f9b7bcefabbd",
   "metadata": {
    "execution": {
     "iopub.execute_input": "2024-10-02T14:53:31.575276Z",
     "iopub.status.busy": "2024-10-02T14:53:31.574763Z",
     "iopub.status.idle": "2024-10-02T14:53:36.208922Z",
     "shell.execute_reply": "2024-10-02T14:53:36.208479Z",
     "shell.execute_reply.started": "2024-10-02T14:53:31.575262Z"
    }
   },
   "outputs": [],
   "source": [
    "exptimes = {}\n",
    "for exp in shutterTimes:\n",
    "    exptimes[exp.id] = exp.timespan.end\n",
    "\n",
    "ingest_times = [res[\"raw.ingest_date\"] for res in result]\n",
    "exposure_times = [exptimes[res[\"exposure\"]] for res in result]\n",
    "\n",
    "seconds = (Time(ingest_times) - Time(exposure_times)).to('second')  # per image\n"
   ]
  },
  {
   "cell_type": "code",
   "execution_count": 24,
   "id": "85ab64cf-3c5d-43ac-bc51-1a56e28a2c4f",
   "metadata": {
    "execution": {
     "iopub.execute_input": "2024-10-02T14:53:39.910021Z",
     "iopub.status.busy": "2024-10-02T14:53:39.909406Z",
     "iopub.status.idle": "2024-10-02T14:53:47.378954Z",
     "shell.execute_reply": "2024-10-02T14:53:47.378472Z",
     "shell.execute_reply.started": "2024-10-02T14:53:39.910007Z"
    }
   },
   "outputs": [],
   "source": [
    "min = 100.0\n",
    "max = 0.0\n",
    "prev = None\n",
    "prevt = 0\n",
    "startexp = 0\n",
    "nt = len(exptimes)\n",
    "ecount = 0\n",
    "expt = np.array([t.to_value('mjd') for t in exptimes.values()])  # per exposure \n",
    "expmins  = np.empty(shape = [nt]) # the fastest tranfer\n",
    "expmaxs  = np.empty(shape = [nt]) # slowes transfer\n",
    "for count, ts in enumerate(seconds):\n",
    "    t = ts.value\n",
    "    if exposure_times[count] != prev : # boundary of exposure - individial times should be ordered\n",
    "        expmins[ecount] = t\n",
    "        if ecount > 0:\n",
    "            expmaxs[ecount] = prevt\n",
    "        ecount = ecount + 1\n",
    "        prev = exposure_times[count]\n",
    "        if t < min:\n",
    "           min = t\n",
    "        if prevt > max:\n",
    "           max = t \n",
    "    prevt = t\n"
   ]
  },
  {
   "cell_type": "code",
   "execution_count": null,
   "id": "d2aef882",
   "metadata": {
    "execution": {
     "iopub.execute_input": "2024-10-02T14:54:09.468667Z",
     "iopub.status.busy": "2024-10-02T14:54:09.468250Z"
    }
   },
   "outputs": [],
   "source": [
    "min = 100.0\n",
    "max = 0.0\n",
    "prev = None\n",
    "nt = len(exptimes)\n",
    "ecount = -1\n",
    "expt = np.array([t.to_value('mjd') for t in exptimes.values()])  # per exposure \n",
    "expmins  = np.empty(shape = [nt]) # the fastest tranfer\n",
    "expmaxs  = np.empty(shape = [nt]) # slowes transfer\n",
    "for count, ts in enumerate(seconds):\n",
    "    t = ts.value\n",
    "    if exposure_times[count] != prev :\n",
    "        if ecount > -1:\n",
    "            expmins[ecount] = emin\n",
    "            expmaxs[ecount] = emax\n",
    "\n",
    "        emin = 100.0\n",
    "        emax = 0.0\n",
    "        ecount = ecount + 1\n",
    "        prev = exposure_times[count]\n",
    "    if t < min:\n",
    "        min = t\n",
    "    if t > max:\n",
    "        max = t \n",
    "    if t < emin:\n",
    "        emin = t\n",
    "    if t > emax:\n",
    "        emax = t\n"
   ]
  },
  {
   "cell_type": "code",
   "execution_count": 15,
   "id": "c3eb5aa1-05ed-49bb-8f56-748cff94e3d8",
   "metadata": {
    "execution": {
     "iopub.execute_input": "2024-10-02T14:51:07.618304Z",
     "iopub.status.busy": "2024-10-02T14:51:07.617683Z",
     "iopub.status.idle": "2024-10-02T14:51:07.622500Z",
     "shell.execute_reply": "2024-10-02T14:51:07.622148Z",
     "shell.execute_reply.started": "2024-10-02T14:51:07.618289Z"
    }
   },
   "outputs": [
    {
     "name": "stdout",
     "output_type": "stream",
     "text": [
      "Counted 1367 exposures.\n",
      "The min time was 4.369506999999828 max time was 46.08995999999408 seconds over 280023 times.\n",
      "Time between shutter close and ingest mean:202.56190382389562 s, std:146.51797556781455 s, var:21467.517164490702 s2\n"
     ]
    }
   ],
   "source": [
    "print (f\"Counted {ecount +1} exposures.\")\n",
    "print (f\"The min time was {min} max time was {max} seconds over {len(seconds)} times.\")\n",
    "print (f\"Time between shutter close and ingest mean:{np.mean(seconds)}, std:{np.std(seconds)}, var:{np.var(seconds)}\")"
   ]
  },
  {
   "cell_type": "code",
   "execution_count": null,
   "id": "fb3504b8-f273-495e-93cd-a5387866798b",
   "metadata": {
    "tags": []
   },
   "outputs": [],
   "source": [
    "import matplotlib.pyplot as plt\n",
    "plt.hist(seconds,bins='auto')\n",
    "plt.title(f\"Shutter close to ingest times(s) for {len(seconds)} images on {day}\")\n",
    "plt.axvline(x = 7, color = 'r', linestyle = '-', ymin=0, ymax=1) \n",
    "\n",
    "plt.show()"
   ]
  },
  {
   "cell_type": "markdown",
   "id": "b6392177-235b-440c-9e12-45bfcebc2e70",
   "metadata": {},
   "source": [
    "Red line is 7 seconds"
   ]
  },
  {
   "cell_type": "markdown",
   "id": "4a853d3f-c87a-4802-bf56-c2c28877ef4e",
   "metadata": {},
   "source": [
    "## The max and min transfer time for each exposure\n",
    "For each exposure the fastes (blue) and slowest (orange) file transfer is ploted. "
   ]
  },
  {
   "cell_type": "code",
   "execution_count": 25,
   "id": "768c4fb4-6637-4218-adcd-98a66a0ad9e2",
   "metadata": {
    "execution": {
     "iopub.execute_input": "2024-10-02T14:53:54.327258Z",
     "iopub.status.busy": "2024-10-02T14:53:54.326863Z",
     "iopub.status.idle": "2024-10-02T14:53:54.409246Z",
     "shell.execute_reply": "2024-10-02T14:53:54.408907Z",
     "shell.execute_reply.started": "2024-10-02T14:53:54.327243Z"
    }
   },
   "outputs": [
    {
     "data": {
      "image/png": "[encoded data removed]",
      "text/plain": [
       "<Figure size 640x480 with 1 Axes>"
      ]
     },
     "metadata": {},
     "output_type": "display_data"
    }
   ],
   "source": [
    "\n",
    "plt.scatter(expt, expmins, marker=\",\")\n",
    "plt.scatter(expt, expmaxs, marker=\",\")\n",
    "plt.xlabel(f\"MJD {day}\")\n",
    "plt.ylabel(\"Seconds\")\n",
    "plt.title(f\"Max and min transfer time for each exposure over  {day}.\")\n",
    "plt.axhline(y = 7, color = 'r', linestyle = '-') \n",
    "plt.show()"
   ]
  },
  {
   "cell_type": "markdown",
   "id": "e46d92c0-2b1c-468d-9170-9a992b869611",
   "metadata": {},
   "source": [
    "## Time between exposures "
   ]
  },
  {
   "cell_type": "code",
   "execution_count": null,
   "id": "ed6c007a-0488-4166-9263-700700ebadc5",
   "metadata": {},
   "outputs": [],
   "source": [
    "expt.sort()\n",
    "expts = expt[1:]\n",
    "\n",
    "betweentimes = (Time(expts, format='mjd') - Time(expt[0:-1], format='mjd')).to('second')  # per image\n",
    "\n",
    "#print(f\"Got {len(betweentimes)} betweentimes and {len(expts)} exposures.\")\n",
    "#print (f\"Time between exposures mean:{np.mean(betweentimes)}, std:{np.std(betweentimes)}, var:{np.var(betweentimes)} seconds\")\n"
   ]
  },
  {
   "cell_type": "code",
   "execution_count": null,
   "id": "300d55d8-22c9-4798-b9c6-3247881cd7d0",
   "metadata": {},
   "outputs": [],
   "source": [
    "plt.scatter(expts, betweentimes, marker=\",\")\n",
    "plt.axhline(y = 34, color = 'r', linestyle = '-') \n",
    "plt.yscale('log')\n",
    "plt.xlabel(f\"MJD {day}\")\n",
    "plt.ylabel(\"Seconds (log scale)\")\n",
    "plt.title(f\"Time between exposures  for {len(betweentimes)} images on {day}\")\n",
    "plt.show()"
   ]
  },
  {
   "cell_type": "markdown",
   "id": "d8330ed2-781f-4846-954f-0b82a1e04090",
   "metadata": {},
   "source": [
    "Red line is 34 sec nominal time between exposures"
   ]
  }
 ],
 "metadata": {
  "kernelspec": {
   "display_name": "LSST",
   "language": "python",
   "name": "lsst"
  },
  "language_info": {
   "codemirror_mode": {
    "name": "ipython",
    "version": 3
   },
   "file_extension": ".py",
   "mimetype": "text/x-python",
   "name": "python",
   "nbconvert_exporter": "python",
   "pygments_lexer": "ipython3",
   "version": "3.11.9"
  }
 },
 "nbformat": 4,
 "nbformat_minor": 5
}
