{
 "cells": [
  {
   "cell_type": "markdown",
   "id": "17d730bc-4fbf-4f6a-a03b-0baf6054ef79",
   "metadata": {},
   "source": [
    "# Latency of image arrival at USDF after shutter close on LSSTCam"
   ]
  },
  {
   "cell_type": "code",
   "execution_count": 119,
   "id": "55b0672e-15e5-40d0-8a20-637e0bf1cbb6",
   "metadata": {
    "execution": {
     "iopub.execute_input": "2024-10-20T20:33:23.414789Z",
     "iopub.status.busy": "2024-10-20T20:33:23.414151Z",
     "iopub.status.idle": "2024-10-20T20:33:23.416817Z",
     "shell.execute_reply": "2024-10-20T20:33:23.416456Z",
     "shell.execute_reply.started": "2024-10-20T20:33:23.414774Z"
    }
   },
   "outputs": [],
   "source": [
    "# This cell is only for setting parameter defaults\n",
    "day = \"20241019\"\n"
   ]
  },
  {
   "cell_type": "code",
   "execution_count": 120,
   "id": "6886f1f9-e461-4cb4-89d3-f1b966cac1b8",
   "metadata": {
    "execution": {
     "iopub.execute_input": "2024-10-20T20:33:23.423118Z",
     "iopub.status.busy": "2024-10-20T20:33:23.422977Z",
     "iopub.status.idle": "2024-10-20T20:33:24.833251Z",
     "shell.execute_reply": "2024-10-20T20:33:24.832788Z",
     "shell.execute_reply.started": "2024-10-20T20:33:23.423105Z"
    },
    "tags": []
   },
   "outputs": [],
   "source": [
    "from lsst.daf.butler import Butler\n",
    "from lsst.daf.butler.registry import Registry\n",
    "import sqlalchemy\n",
    "from astropy import time\n",
    "import matplotlib.pyplot as plt\n",
    "import numpy as np\n",
    "from astropy.time import Time\n",
    "import boto3.session\n",
    "from datetime import datetime, timezone\n",
    "\n",
    "\n",
    "repo = 'embargo_new'\n",
    "instrument = 'LSSTCam'\n",
    "dt = 'raw'\n",
    "# raw all collection contains all images \n",
    "collections = [f'{instrument}/raw/all']\n",
    "butler = Butler(repo, collections=collections, instrument=instrument)\n",
    "where = f\"day_obs={day}\"\n",
    "\n",
    "endpoint_url = \"https://sdfembs3.sdf.slac.stanford.edu/\"\n",
    "boto_profile = \"embargo\"\n",
    "\n",
    "day_obs = int(day)"
   ]
  },
  {
   "cell_type": "markdown",
   "id": "09bfe2c8-6dd1-44b2-8d67-b7d21091d567",
   "metadata": {},
   "source": [
    "# Data transferred and ingested in butler and access to data\n",
    "\n"
   ]
  },
  {
   "cell_type": "code",
   "execution_count": 121,
   "id": "5d6c13af-8ca4-4010-af51-70a53042a513",
   "metadata": {
    "execution": {
     "iopub.execute_input": "2024-10-20T20:33:24.834220Z",
     "iopub.status.busy": "2024-10-20T20:33:24.834092Z",
     "iopub.status.idle": "2024-10-20T20:33:24.962030Z",
     "shell.execute_reply": "2024-10-20T20:33:24.961583Z",
     "shell.execute_reply.started": "2024-10-20T20:33:24.834208Z"
    }
   },
   "outputs": [
    {
     "name": "stdout",
     "output_type": "stream",
     "text": [
      "Got ingest times for 0 images on day_obs=20241019\n"
     ]
    }
   ],
   "source": [
    "with butler.query() as q:\n",
    "    q = q.join_dataset_search(dt,collections)\n",
    "    q = q.where(day_obs=day_obs)\n",
    "    rows = q.general([\"exposure\"], \"raw.ingest_date\", \"obs_id\", \"detector.full_name\", find_first=False)\n",
    "    # ordering by exposure.id ('.id' is optional) and ingest_date (or 'raw.ingest_date')\n",
    "    result = list(rows.order_by(\"exposure\", \"ingest_date\"))\n",
    "\n",
    "print (f\"Got ingest times for {len(result)} images on day_obs={day}\")\n"
   ]
  },
  {
   "cell_type": "markdown",
   "id": "b72217c0-97dc-4f61-8984-6ca32928ce31",
   "metadata": {
    "tags": []
   },
   "source": [
    "### latency ..\n",
    "\"Measure the delays between completion of readout for each image and the ingestion time recorded in the Butler Registry.\"\n",
    "Get the shuter close time for each exposre \n",
    "the ID in the dimension record is the exposure ID (dimensionRecord.id)\n",
    "thed timespan.end is the sutter close time \n"
   ]
  },
  {
   "cell_type": "code",
   "execution_count": 122,
   "id": "b027f428-e386-48a2-8fe1-6b8bcd24ed97",
   "metadata": {
    "execution": {
     "iopub.execute_input": "2024-10-20T20:33:24.962757Z",
     "iopub.status.busy": "2024-10-20T20:33:24.962628Z",
     "iopub.status.idle": "2024-10-20T20:33:24.978828Z",
     "shell.execute_reply": "2024-10-20T20:33:24.978467Z",
     "shell.execute_reply.started": "2024-10-20T20:33:24.962746Z"
    },
    "tags": []
   },
   "outputs": [
    {
     "name": "stdout",
     "output_type": "stream",
     "text": [
      "Got Metadata (DimensionRecords) for 0 exposures\n"
     ]
    }
   ],
   "source": [
    "shutterTimes = butler.registry.queryDimensionRecords('exposure', where=where, instrument=instrument)\n",
    "nt = shutterTimes.count()\n",
    "\n",
    "print (f\"Got Metadata (DimensionRecords) for {nt} exposures\")\n"
   ]
  },
  {
   "cell_type": "markdown",
   "id": "76c63ce3-5270-49af-b201-db4cd8ea9e8a",
   "metadata": {},
   "source": [
    "get shutter times and calculate the time to ingest"
   ]
  },
  {
   "cell_type": "code",
   "execution_count": 123,
   "id": "0834d79c-0210-481a-8d5b-f9b7bcefabbd",
   "metadata": {
    "execution": {
     "iopub.execute_input": "2024-10-20T20:33:24.979810Z",
     "iopub.status.busy": "2024-10-20T20:33:24.979685Z",
     "iopub.status.idle": "2024-10-20T20:33:24.989014Z",
     "shell.execute_reply": "2024-10-20T20:33:24.988651Z",
     "shell.execute_reply.started": "2024-10-20T20:33:24.979794Z"
    }
   },
   "outputs": [],
   "source": [
    "exptimes = {}\n",
    "for exp in shutterTimes:\n",
    "    exptimes[exp.id] = exp.timespan.end\n",
    "\n",
    "ingest_times = [res[\"raw.ingest_date\"] for res in result]\n",
    "exposure_times = [exptimes[res[\"exposure\"]] for res in result]\n",
    "seconds = []\n",
    "if len(ingest_times) > 0:\n",
    "    seconds = (Time(ingest_times) - Time(exposure_times)).to('second')  # per image\n",
    "    \n"
   ]
  },
  {
   "cell_type": "markdown",
   "id": "bec108fe-4500-43fe-ac64-357cfb484de0",
   "metadata": {},
   "source": [
    "Arrival time to S3 at SLAC"
   ]
  },
  {
   "cell_type": "code",
   "execution_count": 124,
   "id": "ef7f0df6-f5d7-437f-982a-909f2b85242c",
   "metadata": {
    "execution": {
     "iopub.execute_input": "2024-10-20T20:33:24.989634Z",
     "iopub.status.busy": "2024-10-20T20:33:24.989516Z",
     "iopub.status.idle": "2024-10-20T20:33:25.039357Z",
     "shell.execute_reply": "2024-10-20T20:33:25.038915Z",
     "shell.execute_reply.started": "2024-10-20T20:33:24.989623Z"
    }
   },
   "outputs": [
    {
     "data": {
      "text/html": [
       "<pre style=\"margin: 0.1em;\n",
       "padding-left: 0.25em;\n",
       "border-left-style: solid;\n",
       "font-family: var(--jp-code-font-family);\n",
       "font-size: var(--jp-code-font-size);\n",
       "line-height: var(--jp-code-line-height);\n",
       "\"><span style=\"color: var(--jp-warn-color2)\">botocore.credentials</span> <span style=\"color: var(--jp-info-color0)\">INFO</span>: Found credentials in shared credentials file: /home/o/omullan/.lsst/aws-credentials.ini</pre>"
      ],
      "text/plain": [
       "<IPython.core.display.HTML object>"
      ]
     },
     "metadata": {},
     "output_type": "display_data"
    }
   ],
   "source": [
    "client = boto3.session.Session(profile_name=boto_profile).client(\"s3\", endpoint_url=endpoint_url)\n",
    "\n",
    "def get_s3_time(count, ingestt):\n",
    "    # coutn is the index inthe result set \n",
    "    exposure_time = exposure_times[count]\n",
    "    #exposure_time = Time(exposure_time, scale = 'utc')\n",
    "    r = result[count]\n",
    "    inst = r['instrument']\n",
    "    obs_id = r['exposure.obs_id']\n",
    "    detector = r['detector.full_name']\n",
    "    # get instrument, day_obs, obs_id, detector (full name), e.g. from `q.general()` Butler query\n",
    "    key = f\"{inst}/{day}/{obs_id}/{obs_id}_{detector}.fits\"\n",
    "    response = client.head_object(Bucket=\"rubin-summit\", Key=key)\n",
    "    arrival_time = Time(response[\"LastModified\"], format=\"datetime\")\n",
    "    s3arrt = (arrival_time - exposure_time).to('second').value\n",
    "    if (False and ingestt < s3arrt):\n",
    "        deltai = (ingest_times[count] - arrival_time).to('second')\n",
    "        print(f\" ingest:{ingestt}, s3:{s3arrt}\")\n",
    "        print(f\"exposure time : {exposure_time}, {exptimes[r['exposure']]}\")\n",
    "        print(f\"s3time : {arrival_time}  for {key}\")\n",
    "        print(f\"ingest time : {ingest_times[count]}, {r['raw.ingest_date']}.  deltai:{deltai}\")\n",
    "\n",
    "    return s3arrt\n",
    "    "
   ]
  },
  {
   "cell_type": "markdown",
   "id": "9837ba1e-d4ca-411a-b9a2-975fda45c9b3",
   "metadata": {},
   "source": [
    "Use the exposure times to work out the time for each imagetransfer  and the max and min for each exposure"
   ]
  },
  {
   "cell_type": "code",
   "execution_count": 125,
   "id": "8a14a992-cb5c-4709-8834-e309e45cf9db",
   "metadata": {
    "execution": {
     "iopub.execute_input": "2024-10-20T20:33:25.040030Z",
     "iopub.status.busy": "2024-10-20T20:33:25.039909Z",
     "iopub.status.idle": "2024-10-20T20:33:25.042397Z",
     "shell.execute_reply": "2024-10-20T20:33:25.042019Z",
     "shell.execute_reply.started": "2024-10-20T20:33:25.040019Z"
    }
   },
   "outputs": [],
   "source": [
    "#cumulative ingest times for Zjelko\n",
    "tot = len(seconds)\n",
    "\n",
    "sord=[]\n",
    "if  tot > 0:\n",
    "    sord = np.sort(seconds)\n",
    "    rank = np.arange(0, tot, 1)\n",
    "    cumulative = (rank / tot)  # per image"
   ]
  },
  {
   "cell_type": "code",
   "execution_count": 126,
   "id": "85ab64cf-3c5d-43ac-bc51-1a56e28a2c4f",
   "metadata": {
    "execution": {
     "iopub.execute_input": "2024-10-20T20:33:25.043006Z",
     "iopub.status.busy": "2024-10-20T20:33:25.042887Z",
     "iopub.status.idle": "2024-10-20T20:33:25.049512Z",
     "shell.execute_reply": "2024-10-20T20:33:25.049139Z",
     "shell.execute_reply.started": "2024-10-20T20:33:25.042995Z"
    }
   },
   "outputs": [
    {
     "name": "stdout",
     "output_type": "stream",
     "text": [
      "No data\n"
     ]
    }
   ],
   "source": [
    "min = 100.0\n",
    "max = 0.0\n",
    "amin = 100\n",
    "amax = 0\n",
    "prev = None\n",
    "prevt = 0\n",
    "startexp = 0\n",
    "nt = len(exptimes)\n",
    "ecount = 0\n",
    "expt = np.array([t.to_value('mjd') for t in exptimes.values()])  # per exposure \n",
    "expmins  = np.empty(shape = [nt]) # the fastest tranfer\n",
    "expmaxs  = np.empty(shape = [nt]) # slowes transfer\n",
    "arrmins  = np.empty(shape = [nt]) # the fastest tranfer - but s3 arrival time\n",
    "arrmaxs  = np.empty(shape = [nt]) # slowes transfer - but s3 arrival time\n",
    "\n",
    "if (len(seconds) > 0):\n",
    "    for count, ts in enumerate(seconds):\n",
    "        t = ts.value\n",
    "        if exposure_times[count] != prev : # boundary of exposure - individial times should be ordered\n",
    "            expmins[ecount] = t\n",
    "            arrmins[ecount] = get_s3_time(count, t)\n",
    "            if (arrmins[ecount]) < amin:\n",
    "                amin = arrmins[ecount]\n",
    "            if ecount > 0:\n",
    "                expmaxs[ecount] = prevt\n",
    "                arrmaxs[ecount] = get_s3_time(count - 1, prevt)\n",
    "                if (arrmaxs[ecount]) > amax:\n",
    "                    amax = arrmaxs[ecount]\n",
    "            ecount = ecount + 1\n",
    "            if t < min:\n",
    "               min = t\n",
    "            if prevt > max:\n",
    "               max = prevt     \n",
    "            prev = exposure_times[count]\n",
    "        prevt = t\n",
    "    print (f\"Counted {ecount +1} exposures.\")\n",
    "    print (f\"The min transfer time was {amin} max transfer time was {amax} seconds.\")\n",
    "    print (f\"The min ingest time was {min} max ingest time was {max} seconds over {len(seconds)} times.\")\n",
    "    print (f\"Time between shutter close and ingest median:{np.median(seconds)}, mean:{np.mean(seconds)}, std:{np.std(seconds)}, var:{np.var(seconds)}\")\n",
    "else:\n",
    "    print(\"No data\")"
   ]
  },
  {
   "cell_type": "code",
   "execution_count": 127,
   "id": "5dc39734-52ad-4af6-8506-792f2ba8582e",
   "metadata": {
    "execution": {
     "iopub.execute_input": "2024-10-20T20:33:25.050109Z",
     "iopub.status.busy": "2024-10-20T20:33:25.049993Z",
     "iopub.status.idle": "2024-10-20T20:33:25.052809Z",
     "shell.execute_reply": "2024-10-20T20:33:25.052457Z",
     "shell.execute_reply.started": "2024-10-20T20:33:25.050099Z"
    }
   },
   "outputs": [],
   "source": [
    "#cumulative transfertimes\n",
    "\n",
    "s3times = np.concatenate((arrmins,arrmaxs), axis=0)\n",
    "tot = len(s3times)\n",
    "\n",
    "if  tot > 0:\n",
    "    s3ord = np.sort(s3times)\n",
    "    rank = np.arange(0, tot, 1)\n",
    "    s3cumulative = (rank / tot)  # per image"
   ]
  },
  {
   "cell_type": "code",
   "execution_count": 130,
   "id": "fb3504b8-f273-495e-93cd-a5387866798b",
   "metadata": {
    "execution": {
     "iopub.execute_input": "2024-10-20T20:41:23.117589Z",
     "iopub.status.busy": "2024-10-20T20:41:23.117020Z",
     "iopub.status.idle": "2024-10-20T20:41:23.191459Z",
     "shell.execute_reply": "2024-10-20T20:41:23.191091Z",
     "shell.execute_reply.started": "2024-10-20T20:41:23.117575Z"
    },
    "tags": []
   },
   "outputs": [
    {
     "data": {
      "image/png": "[encoded data removed]",
      "text/plain": [
       "<Figure size 640x480 with 1 Axes>"
      ]
     },
     "metadata": {},
     "output_type": "display_data"
    }
   ],
   "source": [
    "if len(sord) > 0:\n",
    "    plt.scatter(sord, cumulative, marker=\"*\", s=0.5)\n",
    "\n",
    "plt.xlabel(f\"Seconds to ingest\")\n",
    "plt.ylabel(\"Fraction of total images\")\n",
    "\n",
    "plt.title(f\"Cumulative ingests over time for {len(sord)} images on {day}.\")\n",
    "plt.axvline(x = 7, color = 'g', linestyle = '--', ymin=0, ymax=1) \n",
    "plt.axvline(x = 34, color = 'r', linestyle = '--', ymin=0, ymax=1) \n",
    "\n",
    "\n",
    "plt.show()"
   ]
  },
  {
   "cell_type": "code",
   "execution_count": null,
   "id": "57b868ee-482b-465c-b9c4-a8d14230d41e",
   "metadata": {
    "execution": {
     "iopub.status.busy": "2024-10-20T20:33:25.153609Z",
     "iopub.status.idle": "2024-10-20T20:33:25.153766Z",
     "shell.execute_reply": "2024-10-20T20:33:25.153691Z",
     "shell.execute_reply.started": "2024-10-20T20:33:25.153684Z"
    },
    "tags": []
   },
   "outputs": [],
   "source": [
    "plt.hist(seconds,bins='auto')\n",
    "plt.yscale('log')\n",
    "plt.xscale('log')\n",
    "plt.title(f\"Shutter close to ingest times(s) for {len(seconds)} images on {day}\")\n",
    "plt.axvline(x = 7, color = 'g', linestyle = '--', ymin=0, ymax=1) \n",
    "plt.axvline(x = 34, color = 'r', linestyle = '--', ymin=0, ymax=1) \n",
    "\n",
    "plt.show()"
   ]
  },
  {
   "cell_type": "markdown",
   "id": "b6392177-235b-440c-9e12-45bfcebc2e70",
   "metadata": {},
   "source": [
    "Green line is 7 seconds, Red line 34 seconds "
   ]
  },
  {
   "cell_type": "markdown",
   "id": "4a853d3f-c87a-4802-bf56-c2c28877ef4e",
   "metadata": {},
   "source": [
    "## The max and min transfer time for each exposure\n",
    "For each exposure the fastes (blue) and slowest (orange) file transfer is ploted.\n",
    "Camera may resend images later which will lead to an artifically large time to send since we look at shutter close time (especially relative to ingest time). "
   ]
  },
  {
   "cell_type": "code",
   "execution_count": null,
   "id": "3e3b2916-b1be-4112-a438-5050bfbe8c82",
   "metadata": {
    "execution": {
     "iopub.status.busy": "2024-10-20T20:33:25.154325Z",
     "iopub.status.idle": "2024-10-20T20:33:25.154558Z",
     "shell.execute_reply": "2024-10-20T20:33:25.154476Z",
     "shell.execute_reply.started": "2024-10-20T20:33:25.154468Z"
    }
   },
   "outputs": [],
   "source": [
    "\n",
    "plt.scatter(s3ord, s3cumulative, marker=\"*\", s=0.5)\n",
    "\n",
    "plt.xlabel(f\"Seconds to transfer\")\n",
    "plt.ylabel(\"Fraction of total images\")\n",
    "\n",
    "plt.title(f\"Cumulative transfers over time for {len(s3ord)} images on {day}.\")\n",
    "plt.axvline(x = 7, color = 'g', linestyle = '--', ymin=0, ymax=1) \n",
    "plt.axvline(x = 34, color = 'r', linestyle = '--', ymin=0, ymax=1) \n",
    "\n",
    "\n",
    "plt.show()"
   ]
  },
  {
   "cell_type": "code",
   "execution_count": null,
   "id": "9e09cf07-32c7-481e-88b6-7c51ad252121",
   "metadata": {
    "execution": {
     "iopub.status.busy": "2024-10-20T20:33:25.155271Z",
     "iopub.status.idle": "2024-10-20T20:33:25.155516Z",
     "shell.execute_reply": "2024-10-20T20:33:25.155434Z",
     "shell.execute_reply.started": "2024-10-20T20:33:25.155426Z"
    }
   },
   "outputs": [],
   "source": [
    "# For the axis \n",
    "#times = [t.strftime('%H:%M') for t in exptimes.values()]  # per exposure \n",
    "times = [t.to_value('datetime') for t in exptimes.values()]  # per exposure \n"
   ]
  },
  {
   "cell_type": "code",
   "execution_count": null,
   "id": "768c4fb4-6637-4218-adcd-98a66a0ad9e2",
   "metadata": {
    "execution": {
     "iopub.status.busy": "2024-10-20T20:33:25.156062Z",
     "iopub.status.idle": "2024-10-20T20:33:25.156215Z",
     "shell.execute_reply": "2024-10-20T20:33:25.156140Z",
     "shell.execute_reply.started": "2024-10-20T20:33:25.156134Z"
    }
   },
   "outputs": [],
   "source": [
    "import matplotlib.dates as mdates\n",
    "myFmt = mdates.DateFormatter('%H:%M')\n",
    "fig, ax = plt.subplots()\n",
    "ax.xaxis.set_major_formatter(myFmt)\n",
    "\n",
    "plt.scatter(times, arrmins, marker=\"*\", s=0.6)\n",
    "plt.scatter(times, arrmaxs, marker=\"*\", s=0.6)\n",
    "\n",
    "plt.xlabel(f\"Time (UTC)\")\n",
    "plt.ylabel(\"Seconds\")\n",
    "\n",
    "plt.title(f\"Max and min transfer time for {len(expt)} exposures over  {day}.\")\n",
    "plt.axhline(y = 7, color = 'r', linestyle = '--') \n",
    "plt.show()"
   ]
  },
  {
   "cell_type": "code",
   "execution_count": null,
   "id": "0f675d7c-1c6a-40f2-9a5b-a9c48fa6141f",
   "metadata": {
    "execution": {
     "iopub.status.busy": "2024-10-20T20:33:25.156786Z",
     "iopub.status.idle": "2024-10-20T20:33:25.156968Z",
     "shell.execute_reply": "2024-10-20T20:33:25.156889Z",
     "shell.execute_reply.started": "2024-10-20T20:33:25.156882Z"
    }
   },
   "outputs": [],
   "source": [
    "myFmt = mdates.DateFormatter('%H:%M')\n",
    "fig, ax = plt.subplots()\n",
    "ax.xaxis.set_major_formatter(myFmt)\n",
    "\n",
    "plt.scatter(times, expmins, marker=\".\", s=0.5)\n",
    "plt.scatter(times, expmaxs, marker=\".\", s=0.5)\n",
    "\n",
    "plt.xlabel(f\"Time (UTC)\")\n",
    "plt.ylabel(\"Seconds\")\n",
    "\n",
    "plt.title(f\"Max and min time to ingest at SLAC  time for {len(expt)} exposures over  {day}.\")\n",
    "plt.axhline(y = 7, color = 'r', linestyle = '--') \n",
    "plt.show()"
   ]
  },
  {
   "cell_type": "markdown",
   "id": "e46d92c0-2b1c-468d-9170-9a992b869611",
   "metadata": {},
   "source": [
    "## Time between exposures "
   ]
  },
  {
   "cell_type": "code",
   "execution_count": null,
   "id": "ed6c007a-0488-4166-9263-700700ebadc5",
   "metadata": {
    "execution": {
     "iopub.status.busy": "2024-10-20T20:33:25.157428Z",
     "iopub.status.idle": "2024-10-20T20:33:25.157574Z",
     "shell.execute_reply": "2024-10-20T20:33:25.157503Z",
     "shell.execute_reply.started": "2024-10-20T20:33:25.157496Z"
    }
   },
   "outputs": [],
   "source": [
    "expt.sort()\n",
    "expts = expt[1:]\n",
    "\n",
    "betweentimes = (Time(expts, format='mjd') - Time(expt[0:-1], format='mjd')).to('second')  # per image\n",
    "\n",
    "#print(f\"Got {len(betweentimes)} betweentimes and {len(expts)} exposures.\")\n",
    "#print (f\"Time between exposures mean:{np.mean(betweentimes)}, std:{np.std(betweentimes)}, var:{np.var(betweentimes)} seconds\")\n"
   ]
  },
  {
   "cell_type": "code",
   "execution_count": null,
   "id": "300d55d8-22c9-4798-b9c6-3247881cd7d0",
   "metadata": {
    "execution": {
     "iopub.status.busy": "2024-10-20T20:33:25.158026Z",
     "iopub.status.idle": "2024-10-20T20:33:25.158165Z",
     "shell.execute_reply": "2024-10-20T20:33:25.158099Z",
     "shell.execute_reply.started": "2024-10-20T20:33:25.158093Z"
    }
   },
   "outputs": [],
   "source": [
    "plt.scatter(expts, betweentimes, marker=\".\", s=0.7)\n",
    "plt.axhline(y = 34, color = 'r', linestyle = '--') \n",
    "plt.yscale('log')\n",
    "plt.xlabel(f\"MJD {day}\")\n",
    "plt.ylabel(\"Seconds (log scale)\")\n",
    "plt.title(f\"Time between  {len(betweentimes) + 1}  exposures  on {day}\")\n",
    "plt.show()"
   ]
  },
  {
   "cell_type": "markdown",
   "id": "d8330ed2-781f-4846-954f-0b82a1e04090",
   "metadata": {},
   "source": [
    "Red line is 34 sec nominal time between exposures"
   ]
  },
  {
   "cell_type": "markdown",
   "id": "11270502-82cd-469d-b5da-a2ca006ae09d",
   "metadata": {},
   "source": [
    "# See Also\n",
    "The butler postgress database at SLAC for the same day."
   ]
  },
  {
   "cell_type": "code",
   "execution_count": null,
   "id": "4244df57-49cb-463f-9610-50e40473256d",
   "metadata": {
    "execution": {
     "iopub.status.busy": "2024-10-20T20:33:25.158940Z",
     "iopub.status.idle": "2024-10-20T20:33:25.159090Z",
     "shell.execute_reply": "2024-10-20T20:33:25.159015Z",
     "shell.execute_reply.started": "2024-10-20T20:33:25.159009Z"
    }
   },
   "outputs": [],
   "source": [
    "## See also  from=1729393200000&to=1729479599000\n",
    "fromt = datetime.now(timezone.utc).replace(hour=0,minute=0,second=0)\n",
    "tot = datetime.now(timezone.utc).replace(hour=23,minute=59,second=59)\n",
    "if  len(exposure_times) > 0:\n",
    "    fromt = exposure_times[0].to_value('datetime')\n",
    "    tot = exposure_times[-1].to_value('datetime')\n",
    "fromt = fromt.timestamp() * 1000\n",
    "tot = tot.timestamp() * 1000\n",
    "print(f\"https://grafana.slac.stanford.edu/d/z7FCA4Nnk/cloud-native-postgresql-cnpg?orgId=1&refresh=30s&var-DataSource=940RXge4k&var-vcluster=vcluster--usdf-butler&var-cluster=usdf-butler-embargo16&var-instances=All&var-namespace=embargo16-prod&var-resolution=5m&from={fromt}&to={tot}\")"
   ]
  }
 ],
 "metadata": {
  "kernelspec": {
   "display_name": "LSST",
   "language": "python",
   "name": "lsst"
  },
  "language_info": {
   "codemirror_mode": {
    "name": "ipython",
    "version": 3
   },
   "file_extension": ".py",
   "mimetype": "text/x-python",
   "name": "python",
   "nbconvert_exporter": "python",
   "pygments_lexer": "ipython3",
   "version": "3.11.9"
  }
 },
 "nbformat": 4,
 "nbformat_minor": 5
}
